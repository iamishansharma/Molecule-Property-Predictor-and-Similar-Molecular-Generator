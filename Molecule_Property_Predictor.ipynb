{
  "nbformat": 4,
  "nbformat_minor": 0,
  "metadata": {
    "accelerator": "GPU",
    "colab": {
      "name": "Molecule Property Predictor.ipynb",
      "provenance": [],
      "collapsed_sections": []
    },
    "kernelspec": {
      "display_name": "Python 3",
      "name": "python3"
    }
  },
  "cells": [
    {
      "cell_type": "markdown",
      "metadata": {
        "id": "9I682G7IEgc0"
      },
      "source": [
        "# Molecular Property Predictor using Graph Neural Networks"
      ]
    },
    {
      "cell_type": "markdown",
      "metadata": {
        "id": "H5eT5zvZEp35"
      },
      "source": [
        "## Installing Dependencies\n",
        "\n",
        "\n",
        "\n",
        "*   Pytorch Geometric -> For GNN and dataset\n",
        "*   rdkit -> For molecule visualisation\n",
        "\n",
        "\n"
      ]
    },
    {
      "cell_type": "code",
      "metadata": {
        "colab": {
          "base_uri": "https://localhost:8080/"
        },
        "id": "ssDB6uoQ69SE",
        "cellView": "form",
        "collapsed": true,
        "outputId": "8be41f93-848f-4998-a901-3e50b1ea25da"
      },
      "source": [
        "#@title\n",
        "# Check pytorch version and make sure you use a GPU Kernel\n",
        "!python -c \"import torch; print(torch.__version__)\"\n",
        "!python -c \"import torch; print(torch.version.cuda)\"\n",
        "!python --version\n",
        "!nvidia-smi"
      ],
      "execution_count": null,
      "outputs": [
        {
          "output_type": "stream",
          "text": [
            "1.8.1+cu101\n",
            "10.1\n",
            "Python 3.7.10\n",
            "Sat Apr 24 12:40:32 2021       \n",
            "+-----------------------------------------------------------------------------+\n",
            "| NVIDIA-SMI 465.19.01    Driver Version: 460.32.03    CUDA Version: 11.2     |\n",
            "|-------------------------------+----------------------+----------------------+\n",
            "| GPU  Name        Persistence-M| Bus-Id        Disp.A | Volatile Uncorr. ECC |\n",
            "| Fan  Temp  Perf  Pwr:Usage/Cap|         Memory-Usage | GPU-Util  Compute M. |\n",
            "|                               |                      |               MIG M. |\n",
            "|===============================+======================+======================|\n",
            "|   0  Tesla T4            Off  | 00000000:00:04.0 Off |                    0 |\n",
            "| N/A   53C    P8    10W /  70W |      0MiB / 15109MiB |      0%      Default |\n",
            "|                               |                      |                  N/A |\n",
            "+-------------------------------+----------------------+----------------------+\n",
            "                                                                               \n",
            "+-----------------------------------------------------------------------------+\n",
            "| Processes:                                                                  |\n",
            "|  GPU   GI   CI        PID   Type   Process name                  GPU Memory |\n",
            "|        ID   ID                                                   Usage      |\n",
            "|=============================================================================|\n",
            "|  No running processes found                                                 |\n",
            "+-----------------------------------------------------------------------------+\n"
          ],
          "name": "stdout"
        }
      ]
    },
    {
      "cell_type": "code",
      "metadata": {
        "colab": {
          "base_uri": "https://localhost:8080/"
        },
        "id": "reWKjiFmDcob",
        "cellView": "form",
        "collapsed": true,
        "outputId": "cfe94602-7746-49b1-f8ac-f68a28794316"
      },
      "source": [
        "#@title\n",
        "# #@title\n",
        "# #@title\n",
        "# # Install rdkit\n",
        "# import sys\n",
        "# import os\n",
        "# import requests\n",
        "# import subprocess\n",
        "# import shutil\n",
        "# from logging import getLogger, StreamHandler, INFO\n",
        "\n",
        "\n",
        "# logger = getLogger(__name__)\n",
        "# logger.addHandler(StreamHandler())\n",
        "# logger.setLevel(INFO)\n",
        "\n",
        "\n",
        "# def install(\n",
        "#         chunk_size=4096,\n",
        "#         file_name=\"Miniconda3-latest-Linux-x86_64.sh\",\n",
        "#         url_base=\"https://repo.continuum.io/miniconda/\",\n",
        "#         conda_path=os.path.expanduser(os.path.join(\"~\", \"miniconda\")),\n",
        "#         rdkit_version=None,\n",
        "#         add_python_path=True,\n",
        "#         force=False):\n",
        "#     \"\"\"install rdkit from miniconda\n",
        "#     ```\n",
        "#     import rdkit_installer\n",
        "#     rdkit_installer.install()\n",
        "#     ```\n",
        "#     \"\"\"\n",
        "\n",
        "#     python_path = os.path.join(\n",
        "#         conda_path,\n",
        "#         \"lib\",\n",
        "#         \"python{0}.{1}\".format(*sys.version_info),\n",
        "#         \"site-packages\",\n",
        "#     )\n",
        "\n",
        "#     if add_python_path and python_path not in sys.path:\n",
        "#         logger.info(\"add {} to PYTHONPATH\".format(python_path))\n",
        "#         sys.path.append(python_path)\n",
        "\n",
        "#     if os.path.isdir(os.path.join(python_path, \"rdkit\")):\n",
        "#         logger.info(\"rdkit is already installed\")\n",
        "#         if not force:\n",
        "#             return\n",
        "\n",
        "#         logger.info(\"force re-install\")\n",
        "\n",
        "#     url = url_base + file_name\n",
        "#     python_version = \"{0}.{1}.{2}\".format(*sys.version_info)\n",
        "\n",
        "#     logger.info(\"python version: {}\".format(python_version))\n",
        "\n",
        "#     if os.path.isdir(conda_path):\n",
        "#         logger.warning(\"remove current miniconda\")\n",
        "#         shutil.rmtree(conda_path)\n",
        "#     elif os.path.isfile(conda_path):\n",
        "#         logger.warning(\"remove {}\".format(conda_path))\n",
        "#         os.remove(conda_path)\n",
        "\n",
        "#     logger.info('fetching installer from {}'.format(url))\n",
        "#     res = requests.get(url, stream=True)\n",
        "#     res.raise_for_status()\n",
        "#     with open(file_name, 'wb') as f:\n",
        "#         for chunk in res.iter_content(chunk_size):\n",
        "#             f.write(chunk)\n",
        "#     logger.info('done')\n",
        "\n",
        "#     logger.info('installing miniconda to {}'.format(conda_path))\n",
        "#     subprocess.check_call([\"bash\", file_name, \"-b\", \"-p\", conda_path])\n",
        "#     logger.info('done')\n",
        "\n",
        "#     logger.info(\"installing rdkit\")\n",
        "#     subprocess.check_call([\n",
        "#         os.path.join(conda_path, \"bin\", \"conda\"),\n",
        "#         \"install\",\n",
        "#         \"--yes\",\n",
        "#         \"-c\", \"rdkit\",\n",
        "#         \"python=={}\".format(python_version),\n",
        "#         \"rdkit\" if rdkit_version is None else \"rdkit=={}\".format(rdkit_version)])\n",
        "#     logger.info(\"done\")\n",
        "\n",
        "#     import rdkit\n",
        "#     logger.info(\"rdkit-{} installation finished!\".format(rdkit.__version__))\n",
        "\n",
        "\n",
        "# if __name__ == \"__main__\":\n",
        "#     install()\n",
        "\n",
        "# %%bash\n",
        "# wget -c https://repo.continuum.io/miniconda/Miniconda3-latest-Linux-x86_64.sh\n",
        "# chmod +x Miniconda3-latest-Linux-x86_64.sh\n",
        "# ./Miniconda3-latest-Linux-x86_64.sh -b -f -p /usr/local\n",
        "# conda config --set always_yes yes --set changeps1 no\n",
        "# conda install -q -y -c conda-forge python=3.7\n",
        "# conda install -q -y -c conda-forge rdkit==2020.09.2\n",
        "\n",
        "!pip install kora -q\n",
        "import kora.install.rdkit"
      ],
      "execution_count": null,
      "outputs": [
        {
          "output_type": "stream",
          "text": [
            "\u001b[?25l\r\u001b[K     |█████▊                          | 10kB 27.2MB/s eta 0:00:01\r\u001b[K     |███████████▍                    | 20kB 32.7MB/s eta 0:00:01\r\u001b[K     |█████████████████               | 30kB 22.9MB/s eta 0:00:01\r\u001b[K     |██████████████████████▊         | 40kB 26.4MB/s eta 0:00:01\r\u001b[K     |████████████████████████████▍   | 51kB 28.2MB/s eta 0:00:01\r\u001b[K     |████████████████████████████████| 61kB 8.3MB/s \n",
            "\u001b[?25h\u001b[?25l\r\u001b[K     |██████▏                         | 10kB 34.6MB/s eta 0:00:01\r\u001b[K     |████████████▍                   | 20kB 39.3MB/s eta 0:00:01\r\u001b[K     |██████████████████▌             | 30kB 41.4MB/s eta 0:00:01\r\u001b[K     |████████████████████████▊       | 40kB 40.8MB/s eta 0:00:01\r\u001b[K     |██████████████████████████████▉ | 51kB 29.7MB/s eta 0:00:01\r\u001b[K     |████████████████████████████████| 61kB 8.1MB/s \n",
            "\u001b[?25h"
          ],
          "name": "stdout"
        }
      ]
    },
    {
      "cell_type": "code",
      "metadata": {
        "id": "nuW7oh7a-Rbl",
        "cellView": "form"
      },
      "source": [
        "#@title\n",
        "import sys\n",
        "sys.path.append('/usr/local/lib/python3.7/site-packages/')\n",
        "\n",
        "try:\n",
        "  from rdkit import Chem\n",
        "  from rdkit.Chem.Draw import IPythonConsole\n",
        "except ImportError:\n",
        "  print('Stopping RUNTIME. Colaboratory will restart automatically. Please run again.')\n",
        "  exit()"
      ],
      "execution_count": null,
      "outputs": []
    },
    {
      "cell_type": "code",
      "metadata": {
        "id": "4S8MC7JiDdV2",
        "colab": {
          "base_uri": "https://localhost:8080/"
        },
        "collapsed": true,
        "cellView": "form",
        "outputId": "e87e9775-c3c7-4da6-c015-948f9f11e649"
      },
      "source": [
        "#@title\n",
        "# If this breaks, you might want to change the CUDA version displayed above (make sure the Pytorch version installed matches the installs here)\n",
        " \n",
        "# Torch should already be installed\n",
        "!pip install --no-index torch-scatter -f https://pytorch-geometric.com/whl/torch-1.8.0+cu101.html\n",
        "!pip install --no-index torch-sparse -f https://pytorch-geometric.com/whl/torch-1.8.0+cu101.html\n",
        "!pip install --no-index torch-cluster -f https://pytorch-geometric.com/whl/torch-1.8.0+cu101.html\n",
        "!pip install --no-index torch-spline-conv -f https://pytorch-geometric.com/whl/torch-1.8.0+cu101.html\n",
        "!pip install torch-geometric"
      ],
      "execution_count": null,
      "outputs": [
        {
          "output_type": "stream",
          "text": [
            "Looking in links: https://pytorch-geometric.com/whl/torch-1.8.0+cu101.html\n",
            "Collecting torch-scatter\n",
            "\u001b[?25l  Downloading https://pytorch-geometric.com/whl/torch-1.8.0%2Bcu101/torch_scatter-2.0.6-cp37-cp37m-linux_x86_64.whl (2.5MB)\n",
            "\u001b[K     |████████████████████████████████| 2.6MB 20.8MB/s \n",
            "\u001b[?25hInstalling collected packages: torch-scatter\n",
            "Successfully installed torch-scatter-2.0.6\n",
            "Looking in links: https://pytorch-geometric.com/whl/torch-1.8.0+cu101.html\n",
            "Collecting torch-sparse\n",
            "\u001b[?25l  Downloading https://pytorch-geometric.com/whl/torch-1.8.0%2Bcu101/torch_sparse-0.6.9-cp37-cp37m-linux_x86_64.whl (1.5MB)\n",
            "\u001b[K     |████████████████████████████████| 1.5MB 25.6MB/s \n",
            "\u001b[?25hRequirement already satisfied: scipy in /usr/local/lib/python3.7/dist-packages (from torch-sparse) (1.4.1)\n",
            "Requirement already satisfied: numpy>=1.13.3 in /usr/local/lib/python3.7/dist-packages (from scipy->torch-sparse) (1.19.5)\n",
            "Installing collected packages: torch-sparse\n",
            "Successfully installed torch-sparse-0.6.9\n",
            "Looking in links: https://pytorch-geometric.com/whl/torch-1.8.0+cu101.html\n",
            "Collecting torch-cluster\n",
            "\u001b[?25l  Downloading https://pytorch-geometric.com/whl/torch-1.8.0%2Bcu101/torch_cluster-1.5.9-cp37-cp37m-linux_x86_64.whl (1.0MB)\n",
            "\u001b[K     |████████████████████████████████| 1.0MB 25.6MB/s \n",
            "\u001b[?25hInstalling collected packages: torch-cluster\n",
            "Successfully installed torch-cluster-1.5.9\n",
            "Looking in links: https://pytorch-geometric.com/whl/torch-1.8.0+cu101.html\n",
            "Collecting torch-spline-conv\n",
            "\u001b[?25l  Downloading https://pytorch-geometric.com/whl/torch-1.8.0%2Bcu101/torch_spline_conv-1.2.1-cp37-cp37m-linux_x86_64.whl (386kB)\n",
            "\u001b[K     |████████████████████████████████| 389kB 17.8MB/s \n",
            "\u001b[?25hInstalling collected packages: torch-spline-conv\n",
            "Successfully installed torch-spline-conv-1.2.1\n",
            "Collecting torch-geometric\n",
            "\u001b[?25l  Downloading https://files.pythonhosted.org/packages/d9/99/18781f60303b2f7097a13feed0b51e531364251f441bd83e38fac09944bd/torch_geometric-1.7.0.tar.gz (212kB)\n",
            "\u001b[K     |████████████████████████████████| 215kB 16.1MB/s \n",
            "\u001b[?25hRequirement already satisfied: numpy in /usr/local/lib/python3.7/dist-packages (from torch-geometric) (1.19.5)\n",
            "Requirement already satisfied: tqdm in /usr/local/lib/python3.7/dist-packages (from torch-geometric) (4.41.1)\n",
            "Requirement already satisfied: scipy in /usr/local/lib/python3.7/dist-packages (from torch-geometric) (1.4.1)\n",
            "Requirement already satisfied: networkx in /usr/local/lib/python3.7/dist-packages (from torch-geometric) (2.5.1)\n",
            "Requirement already satisfied: python-louvain in /usr/local/lib/python3.7/dist-packages (from torch-geometric) (0.15)\n",
            "Requirement already satisfied: scikit-learn in /usr/local/lib/python3.7/dist-packages (from torch-geometric) (0.22.2.post1)\n",
            "Requirement already satisfied: numba in /usr/local/lib/python3.7/dist-packages (from torch-geometric) (0.51.2)\n",
            "Requirement already satisfied: requests in /usr/local/lib/python3.7/dist-packages (from torch-geometric) (2.23.0)\n",
            "Requirement already satisfied: pandas in /usr/local/lib/python3.7/dist-packages (from torch-geometric) (1.1.5)\n",
            "Collecting rdflib\n",
            "\u001b[?25l  Downloading https://files.pythonhosted.org/packages/d0/6b/6454aa1db753c0f8bc265a5bd5c10b5721a4bb24160fb4faf758cf6be8a1/rdflib-5.0.0-py3-none-any.whl (231kB)\n",
            "\u001b[K     |████████████████████████████████| 235kB 37.3MB/s \n",
            "\u001b[?25hRequirement already satisfied: h5py in /usr/local/lib/python3.7/dist-packages (from torch-geometric) (2.10.0)\n",
            "Requirement already satisfied: googledrivedownloader in /usr/local/lib/python3.7/dist-packages (from torch-geometric) (0.4)\n",
            "Collecting ase\n",
            "\u001b[?25l  Downloading https://files.pythonhosted.org/packages/a5/36/de17e79f29e06d9a92746d0dd9ec4636487ab03f6af10e78586aae533f7a/ase-3.21.1-py3-none-any.whl (2.2MB)\n",
            "\u001b[K     |████████████████████████████████| 2.2MB 56.5MB/s \n",
            "\u001b[?25hRequirement already satisfied: jinja2 in /usr/local/lib/python3.7/dist-packages (from torch-geometric) (2.11.3)\n",
            "Requirement already satisfied: decorator<5,>=4.3 in /usr/local/lib/python3.7/dist-packages (from networkx->torch-geometric) (4.4.2)\n",
            "Requirement already satisfied: joblib>=0.11 in /usr/local/lib/python3.7/dist-packages (from scikit-learn->torch-geometric) (1.0.1)\n",
            "Requirement already satisfied: setuptools in /usr/local/lib/python3.7/dist-packages (from numba->torch-geometric) (56.0.0)\n",
            "Requirement already satisfied: llvmlite<0.35,>=0.34.0.dev0 in /usr/local/lib/python3.7/dist-packages (from numba->torch-geometric) (0.34.0)\n",
            "Requirement already satisfied: certifi>=2017.4.17 in /usr/local/lib/python3.7/dist-packages (from requests->torch-geometric) (2020.12.5)\n",
            "Requirement already satisfied: idna<3,>=2.5 in /usr/local/lib/python3.7/dist-packages (from requests->torch-geometric) (2.10)\n",
            "Requirement already satisfied: urllib3!=1.25.0,!=1.25.1,<1.26,>=1.21.1 in /usr/local/lib/python3.7/dist-packages (from requests->torch-geometric) (1.24.3)\n",
            "Requirement already satisfied: chardet<4,>=3.0.2 in /usr/local/lib/python3.7/dist-packages (from requests->torch-geometric) (3.0.4)\n",
            "Requirement already satisfied: pytz>=2017.2 in /usr/local/lib/python3.7/dist-packages (from pandas->torch-geometric) (2018.9)\n",
            "Requirement already satisfied: python-dateutil>=2.7.3 in /usr/local/lib/python3.7/dist-packages (from pandas->torch-geometric) (2.8.1)\n",
            "Requirement already satisfied: pyparsing in /usr/local/lib/python3.7/dist-packages (from rdflib->torch-geometric) (2.4.7)\n",
            "Requirement already satisfied: six in /usr/local/lib/python3.7/dist-packages (from rdflib->torch-geometric) (1.15.0)\n",
            "Collecting isodate\n",
            "\u001b[?25l  Downloading https://files.pythonhosted.org/packages/9b/9f/b36f7774ff5ea8e428fdcfc4bb332c39ee5b9362ddd3d40d9516a55221b2/isodate-0.6.0-py2.py3-none-any.whl (45kB)\n",
            "\u001b[K     |████████████████████████████████| 51kB 9.2MB/s \n",
            "\u001b[?25hRequirement already satisfied: matplotlib>=2.0.0 in /usr/local/lib/python3.7/dist-packages (from ase->torch-geometric) (3.2.2)\n",
            "Requirement already satisfied: MarkupSafe>=0.23 in /usr/local/lib/python3.7/dist-packages (from jinja2->torch-geometric) (1.1.1)\n",
            "Requirement already satisfied: kiwisolver>=1.0.1 in /usr/local/lib/python3.7/dist-packages (from matplotlib>=2.0.0->ase->torch-geometric) (1.3.1)\n",
            "Requirement already satisfied: cycler>=0.10 in /usr/local/lib/python3.7/dist-packages (from matplotlib>=2.0.0->ase->torch-geometric) (0.10.0)\n",
            "Building wheels for collected packages: torch-geometric\n",
            "  Building wheel for torch-geometric (setup.py) ... \u001b[?25l\u001b[?25hdone\n",
            "  Created wheel for torch-geometric: filename=torch_geometric-1.7.0-cp37-none-any.whl size=365386 sha256=1f11715fa50cf345e9304bb0827c29411f53439c00a27c9a1ad0494b9c114c0f\n",
            "  Stored in directory: /root/.cache/pip/wheels/ce/fb/df/37cd43d1433e65b2d3417a71438404d0eeb4fbbfa40730931c\n",
            "Successfully built torch-geometric\n",
            "Installing collected packages: isodate, rdflib, ase, torch-geometric\n",
            "Successfully installed ase-3.21.1 isodate-0.6.0 rdflib-5.0.0 torch-geometric-1.7.0\n"
          ],
          "name": "stdout"
        }
      ]
    },
    {
      "cell_type": "markdown",
      "metadata": {
        "id": "gwm4g2-AFCTo"
      },
      "source": [
        "## Loading MoleculeNet Physical Chemistry datasets from Pytorch"
      ]
    },
    {
      "cell_type": "code",
      "metadata": {
        "colab": {
          "base_uri": "https://localhost:8080/"
        },
        "id": "zX3n5ZhJDhgy",
        "outputId": "c2dca0b9-a9d1-4471-c789-36138e984191"
      },
      "source": [
        "from torch_geometric.datasets import MoleculeNet\n",
        "\n",
        "class MoleculeNel():\n",
        "\n",
        "    url = 'https://deepchemdata.s3-us-west-1.amazonaws.com/datasets/{}'\n",
        "\n",
        "    names = {\n",
        "        'esol': ['ESOL', 'delaney-processed.csv', 'delaney-processed', -1, -2],\n",
        "        'freesolv': ['FreeSolv', 'SAMPL.csv', 'SAMPL', 1, 2],\n",
        "        'lipo': ['Lipophilicity', 'Lipophilicity.csv', 'Lipophilicity', 2, 1],\n",
        "    }\n",
        "\n",
        "    def __init__(self, root, name, transform=None, pre_transform=None,\n",
        "                 pre_filter=None):\n",
        "\n",
        "        if Chem is None:\n",
        "            raise ImportError('`MoleculeNet` requires `rdkit`.')\n",
        "\n",
        "        self.name = name.lower()\n",
        "        assert self.name in self.names.keys()\n",
        "        super(MoleculeNet, self).__init__(root, transform, pre_transform,\n",
        "                                          pre_filter)\n",
        "        self.data, self.slices = torch.load(self.processed_paths[0])\n",
        "\n",
        "    @property\n",
        "    def raw_dir(self):\n",
        "        return osp.join(self.root, self.name, 'raw')\n",
        "\n",
        "    @property\n",
        "    def processed_dir(self):\n",
        "        return osp.join(self.root, self.name, 'processed')\n",
        "\n",
        "    @property\n",
        "    def raw_file_names(self):\n",
        "        return f'{self.names[self.name][2]}.csv'\n",
        "\n",
        "    @property\n",
        "    def processed_file_names(self):\n",
        "        return 'data.pt'\n",
        "\n",
        "    def download(self):\n",
        "        url = self.url.format(self.names[self.name][1])\n",
        "        path = download_url(url, self.raw_dir)\n",
        "        if self.names[self.name][1][-2:] == 'gz':\n",
        "            extract_gz(path, self.raw_dir)\n",
        "            os.unlink(path)\n",
        "\n",
        "    def process(self):\n",
        "        with open(self.raw_paths[0], 'r') as f:\n",
        "            dataset = f.read().split('\\n')[1:-1]\n",
        "            dataset = [x for x in dataset if len(x) > 0]  \n",
        "\n",
        "        data_list = []\n",
        "        for line in dataset:\n",
        "            line = re.sub(r'\\\".*\\\"', '', line)  \n",
        "            line = line.split(',')\n",
        "\n",
        "            smiles = line[self.names[self.name][3]]\n",
        "            ys = line[self.names[self.name][4]]\n",
        "            ys = ys if isinstance(ys, list) else [ys]\n",
        "\n",
        "            ys = [float(y) if len(y) > 0 else float('NaN') for y in ys]\n",
        "            y = torch.tensor(ys, dtype=torch.float).view(1, -1)\n",
        "\n",
        "            mol = Chem.MolFromSmiles(smiles)\n",
        "            if mol is None:\n",
        "                continue\n",
        "\n",
        "            xs = []\n",
        "            for atom in mol.GetAtoms():\n",
        "                x = []\n",
        "                x.append(x_map['atomic_num'].index(atom.GetAtomicNum()))\n",
        "                x.append(x_map['chirality'].index(str(atom.GetChiralTag())))\n",
        "                x.append(x_map['degree'].index(atom.GetTotalDegree()))\n",
        "                x.append(x_map['formal_charge'].index(atom.GetFormalCharge()))\n",
        "                x.append(x_map['num_hs'].index(atom.GetTotalNumHs()))\n",
        "                x.append(x_map['num_radical_electrons'].index(\n",
        "                    atom.GetNumRadicalElectrons()))\n",
        "                x.append(x_map['hybridization'].index(\n",
        "                    str(atom.GetHybridization())))\n",
        "                x.append(x_map['is_aromatic'].index(atom.GetIsAromatic()))\n",
        "                x.append(x_map['is_in_ring'].index(atom.IsInRing()))\n",
        "                xs.append(x)\n",
        "\n",
        "            x = torch.tensor(xs, dtype=torch.long).view(-1, 9)\n",
        "\n",
        "            edge_indices, edge_attrs = [], []\n",
        "            for bond in mol.GetBonds():\n",
        "                i = bond.GetBeginAtomIdx()\n",
        "                j = bond.GetEndAtomIdx()\n",
        "\n",
        "                e = []\n",
        "                e.append(e_map['bond_type'].index(str(bond.GetBondType())))\n",
        "                e.append(e_map['stereo'].index(str(bond.GetStereo())))\n",
        "                e.append(e_map['is_conjugated'].index(bond.GetIsConjugated()))\n",
        "\n",
        "                edge_indices += [[i, j], [j, i]]\n",
        "                edge_attrs += [e, e]\n",
        "\n",
        "            edge_index = torch.tensor(edge_indices)\n",
        "            edge_index = edge_index.t().to(torch.long).view(2, -1)\n",
        "            edge_attr = torch.tensor(edge_attrs, dtype=torch.long).view(-1, 3)\n",
        "\n",
        "            # Sort indices.\n",
        "            if edge_index.numel() > 0:\n",
        "                perm = (edge_index[0] * x.size(0) + edge_index[1]).argsort()\n",
        "                edge_index, edge_attr = edge_index[:, perm], edge_attr[perm]\n",
        "\n",
        "            data = Data(x=x, edge_index=edge_index, edge_attr=edge_attr, y=y,\n",
        "                        smiles=smiles)\n",
        "\n",
        "            if self.pre_filter is not None and not self.pre_filter(data):\n",
        "                continue\n",
        "\n",
        "            if self.pre_transform is not None:\n",
        "                data = self.pre_transform(data)\n",
        "\n",
        "            data_list.append(data)\n",
        "\n",
        "        torch.save(self.collate(data_list), self.processed_paths[0])\n",
        "\n",
        "    def __repr__(self):\n",
        "        return '{}({})'.format(self.names[self.name][0], len(self))\n",
        "\n",
        "# Load the datasets\n",
        "data1 = MoleculeNet(root=\".\", name=\"ESOL\")\n",
        "data2 = MoleculeNet(root=\".\", name=\"FreeSolv\")\n",
        "data3 = MoleculeNet(root=\".\", name=\"Lipo\")"
      ],
      "execution_count": null,
      "outputs": [
        {
          "output_type": "stream",
          "text": [
            "Downloading https://deepchemdata.s3-us-west-1.amazonaws.com/datasets/delaney-processed.csv\n",
            "Processing...\n",
            "Done!\n",
            "Downloading https://deepchemdata.s3-us-west-1.amazonaws.com/datasets/SAMPL.csv\n",
            "Processing...\n",
            "Done!\n",
            "Downloading https://deepchemdata.s3-us-west-1.amazonaws.com/datasets/Lipophilicity.csv\n",
            "Processing...\n",
            "Done!\n"
          ],
          "name": "stdout"
        }
      ]
    },
    {
      "cell_type": "markdown",
      "metadata": {
        "id": "HphRdo54FJ2F"
      },
      "source": [
        "## Analysing the different fields in the 'data' variables"
      ]
    },
    {
      "cell_type": "code",
      "metadata": {
        "colab": {
          "base_uri": "https://localhost:8080/",
          "height": 436
        },
        "id": "ImC9Ly-JD-p_",
        "outputId": "6b280414-1c85-4928-aac4-fd789698698f"
      },
      "source": [
        "from rdkit import Chem\n",
        "from rdkit.Chem.Draw import IPythonConsole\n",
        "from rdkit.Chem import Draw\n",
        "\n",
        "# Analysing the ESOL dataset\n",
        "print(\"Dataset type: \", type(data1))\n",
        "print(\"Dataset features: \", data1.num_features)\n",
        "print(\"Dataset target: \", data1.num_classes)\n",
        "print(\"Dataset length: \", data1.len)\n",
        "print(\"Dataset sample: \", data1[0])\n",
        "print(\"Sample  nodes: \", data1[0].num_nodes)\n",
        "print(\"Sample  edges: \", data1[0].num_edges)\n",
        "molecule1 = Chem.MolFromSmiles(data1[0][\"smiles\"])\n",
        "Draw.MolToImage(molecule1)"
      ],
      "execution_count": null,
      "outputs": [
        {
          "output_type": "stream",
          "text": [
            "Dataset type:  <class 'torch_geometric.datasets.molecule_net.MoleculeNet'>\n",
            "Dataset features:  9\n",
            "Dataset target:  1\n",
            "Dataset length:  <bound method InMemoryDataset.len of ESOL(1128)>\n",
            "Dataset sample:  Data(edge_attr=[68, 3], edge_index=[2, 68], smiles=\"OCC3OC(OCC2OC(OC(C#N)c1ccccc1)C(O)C(O)C2O)C(O)C(O)C3O \", x=[32, 9], y=[1, 1])\n",
            "Sample  nodes:  32\n",
            "Sample  edges:  68\n"
          ],
          "name": "stdout"
        },
        {
          "output_type": "execute_result",
          "data": {
            "image/png": "[encoded data removed]",
            "text/plain": [
              "<PIL.PngImagePlugin.PngImageFile image mode=RGB size=300x300 at 0x7F50E3B7BBD0>"
            ]
          },
          "metadata": {
            "tags": []
          },
          "execution_count": 7
        }
      ]
    },
    {
      "cell_type": "code",
      "metadata": {
        "colab": {
          "base_uri": "https://localhost:8080/",
          "height": 436
        },
        "id": "1iXV3HjDRsiI",
        "outputId": "79d524bd-de5d-48d6-c976-dda0b588d306"
      },
      "source": [
        "# Analysing the FreeSolv dataset\n",
        "print(\"Dataset type: \", type(data2))\n",
        "print(\"Dataset features: \", data2.num_features)\n",
        "print(\"Dataset target: \", data2.num_classes)\n",
        "print(\"Dataset length: \", data2.len)\n",
        "print(\"Dataset sample: \", data2[0])\n",
        "print(\"Sample  nodes: \", data2[0].num_nodes)\n",
        "print(\"Sample  edges: \", data2[0].num_edges)\n",
        "molecule2 = Chem.MolFromSmiles(data2[0][\"smiles\"])\n",
        "Draw.MolToImage(molecule2)"
      ],
      "execution_count": null,
      "outputs": [
        {
          "output_type": "stream",
          "text": [
            "Dataset type:  <class 'torch_geometric.datasets.molecule_net.MoleculeNet'>\n",
            "Dataset features:  9\n",
            "Dataset target:  1\n",
            "Dataset length:  <bound method InMemoryDataset.len of FreeSolv(642)>\n",
            "Dataset sample:  Data(edge_attr=[26, 3], edge_index=[2, 26], smiles=\"CN(C)C(=O)c1ccc(cc1)OC\", x=[13, 9], y=[1, 1])\n",
            "Sample  nodes:  13\n",
            "Sample  edges:  26\n"
          ],
          "name": "stdout"
        },
        {
          "output_type": "execute_result",
          "data": {
            "image/png": "[encoded data removed]",
            "text/plain": [
              "<PIL.PngImagePlugin.PngImageFile image mode=RGB size=300x300 at 0x7F50E3E53D50>"
            ]
          },
          "metadata": {
            "tags": []
          },
          "execution_count": 8
        }
      ]
    },
    {
      "cell_type": "code",
      "metadata": {
        "colab": {
          "base_uri": "https://localhost:8080/",
          "height": 436
        },
        "id": "xsz0mh1-RvgX",
        "outputId": "79a9f67f-6783-47a9-d1a6-d73931205521"
      },
      "source": [
        "# Analysing the Lipophilicity dataset\n",
        "print(\"Dataset type: \", type(data3))\n",
        "print(\"Dataset features: \", data3.num_features)\n",
        "print(\"Dataset target: \", data3.num_classes)\n",
        "print(\"Dataset length: \", data3.len)\n",
        "print(\"Dataset sample: \", data3[0])\n",
        "print(\"Sample  nodes: \", data3[0].num_nodes)\n",
        "print(\"Sample  edges: \", data3[0].num_edges)\n",
        "molecule3 = Chem.MolFromSmiles(data3[0][\"smiles\"])\n",
        "Draw.MolToImage(molecule3)"
      ],
      "execution_count": null,
      "outputs": [
        {
          "output_type": "stream",
          "text": [
            "Dataset type:  <class 'torch_geometric.datasets.molecule_net.MoleculeNet'>\n",
            "Dataset features:  9\n",
            "Dataset target:  1\n",
            "Dataset length:  <bound method InMemoryDataset.len of Lipophilicity(4200)>\n",
            "Dataset sample:  Data(edge_attr=[54, 3], edge_index=[2, 54], smiles=\"Cn1c(CN2CCN(CC2)c3ccc(Cl)cc3)nc4ccccc14\", x=[24, 9], y=[1, 1])\n",
            "Sample  nodes:  24\n",
            "Sample  edges:  54\n"
          ],
          "name": "stdout"
        },
        {
          "output_type": "execute_result",
          "data": {
            "image/png": "[encoded data removed]",
            "text/plain": [
              "<PIL.PngImagePlugin.PngImageFile image mode=RGB size=300x300 at 0x7F50E431DAD0>"
            ]
          },
          "metadata": {
            "tags": []
          },
          "execution_count": 9
        }
      ]
    },
    {
      "cell_type": "markdown",
      "metadata": {
        "id": "CjmyyRwbFXet"
      },
      "source": [
        "## Building the GNN Model"
      ]
    },
    {
      "cell_type": "code",
      "metadata": {
        "id": "kLcOG4QFFac9",
        "colab": {
          "base_uri": "https://localhost:8080/"
        },
        "outputId": "fc4d6b0c-84b7-448b-b512-1d1b4f2f6f2d"
      },
      "source": [
        "import torch\n",
        "from torch.nn import Linear\n",
        "from torch_geometric.nn import GCNConv\n",
        "import torch.nn.functional as F \n",
        "from torch_geometric.nn import global_mean_pool as gap, global_max_pool as gmp\n",
        "\n",
        "hiddenLayerSize = 64\n",
        "dataFeaturesSize = 9\n",
        "outputSize = 1\n",
        "\n",
        "class GNN(torch.nn.Module):\n",
        "    def __init__(self):\n",
        "        # Init parent\n",
        "        super(GNN, self).__init__()\n",
        "        torch.manual_seed(50) \n",
        "\n",
        "        # Convulational layers\n",
        "        self.firstLayer = GCNConv(dataFeaturesSize, hiddenLayerSize)\n",
        "        self.secondLayer = GCNConv(hiddenLayerSize, hiddenLayerSize)\n",
        "        self.thirdLayer = GCNConv(hiddenLayerSize, hiddenLayerSize)\n",
        "        self.fourthLayer = GCNConv(hiddenLayerSize, hiddenLayerSize)\n",
        "        self.fifthLayer = GCNConv(hiddenLayerSize, hiddenLayerSize)\n",
        "\n",
        "        # # Two Linear Output layers\n",
        "        # self.LinearLayer1 = Linear(hiddenLayerSize*2, hiddenLayerSize)\n",
        "        # self.LinearLayer2 = Linear(hiddenLayerSize, outputSize)\n",
        "\n",
        "        # One Linear Output layers\n",
        "        self.LinearLayer1 = Linear(hiddenLayerSize*2, 1)\n",
        "\n",
        "    def forward(self, x, edge_index, batch_index):\n",
        "\n",
        "        # Convulational layers\n",
        "        hidden = self.firstLayer(x, edge_index)\n",
        "        hidden = F.tanh(hidden)\n",
        "        hidden = self.secondLayer(hidden, edge_index)\n",
        "        hidden = F.tanh(hidden)\n",
        "        hidden = self.thirdLayer(hidden, edge_index)\n",
        "        hidden = F.tanh(hidden)\n",
        "        hidden = self.fourthLayer(hidden, edge_index)\n",
        "        hidden = F.tanh(hidden)\n",
        "        hidden = self.fifthLayer(hidden, edge_index)\n",
        "        hidden = F.tanh(hidden)\n",
        "          \n",
        "        # Global Pooling Layers\n",
        "        hidden = torch.cat([gmp(hidden, batch_index), gap(hidden, batch_index)], dim=1)\n",
        "\n",
        "        # # Adding two linear layers for Linear Regression \n",
        "        # hidden = self.LinearLayer1(hidden)\n",
        "        # output = self.LinearLayer2(hidden)\n",
        "\n",
        "        # Adding a linear layer for Linear Regression \n",
        "        output = self.LinearLayer1(hidden)\n",
        "\n",
        "        return output, hidden\n",
        "\n",
        "model = GNN()\n",
        "print(model)"
      ],
      "execution_count": null,
      "outputs": [
        {
          "output_type": "stream",
          "text": [
            "GNN(\n",
            "  (firstLayer): GCNConv(9, 64)\n",
            "  (secondLayer): GCNConv(64, 64)\n",
            "  (thirdLayer): GCNConv(64, 64)\n",
            "  (fourthLayer): GCNConv(64, 64)\n",
            "  (fifthLayer): GCNConv(64, 64)\n",
            "  (LinearLayer1): Linear(in_features=128, out_features=1, bias=True)\n",
            ")\n"
          ],
          "name": "stdout"
        }
      ]
    },
    {
      "cell_type": "markdown",
      "metadata": {
        "id": "O7nowJzSarxy"
      },
      "source": [
        "## Training the GNN Model"
      ]
    },
    {
      "cell_type": "code",
      "metadata": {
        "id": "ITJONVGHauuF"
      },
      "source": [
        "from torch_geometric.data import DataLoader\n",
        "import warnings\n",
        "warnings.filterwarnings(\"ignore\")\n",
        "\n",
        "# Defining the loss function and optimizer\n",
        "lossFunction = torch.nn.MSELoss()\n",
        "optimizer = torch.optim.Adam(model.parameters(), lr = 0.0005)\n",
        "\n",
        "# Use GPU for training\n",
        "device = torch.device(\"cuda:0\" if torch.cuda.is_available() else \"cpu\")\n",
        "model = model.to(device)\n",
        "\n",
        "def trainModel(traindata):\n",
        "  for eachBatch in traindata:\n",
        "    # Using GPU\n",
        "    eachBatch.to(device)\n",
        "\n",
        "    # Passing data into model\n",
        "    prediction, hiddenLayers = model(eachBatch.x.float(), eachBatch.edge_index, eachBatch.batch)\n",
        "\n",
        "    # Calculating loss\n",
        "    loss = torch.sqrt(lossFunction(prediction, eachBatch.y))\n",
        "    loss.backward()\n",
        "\n",
        "    # Next Step\n",
        "    optimizer.step()\n",
        "    optimizer.zero_grad()\n",
        "\n",
        "  return loss, hiddenLayers"
      ],
      "execution_count": null,
      "outputs": []
    },
    {
      "cell_type": "markdown",
      "metadata": {
        "id": "jd4un2wdd55p"
      },
      "source": [
        "#### Training"
      ]
    },
    {
      "cell_type": "code",
      "metadata": {
        "colab": {
          "base_uri": "https://localhost:8080/",
          "height": 809
        },
        "id": "OxeFo6NTdfze",
        "outputId": "241de0be-2bf8-4768-eb1a-0fa8c6d3d103"
      },
      "source": [
        "batchSize = 64\n",
        "\n",
        "# Setting which dataset to load\n",
        "datasetToLoad = data1\n",
        "\n",
        "train = DataLoader(datasetToLoad[:int(len(datasetToLoad) * 0.8)], \n",
        "                    batch_size=batchSize, shuffle=True)\n",
        "test = DataLoader(datasetToLoad[int(len(datasetToLoad) * 0.8):], \n",
        "                    batch_size=batchSize, shuffle=True)\n",
        "\n",
        "print(\"Starting to train the model\")\n",
        "\n",
        "losses = []\n",
        "\n",
        "for epoch in range(3000):\n",
        "  loss, h = trainModel(train)\n",
        "  losses.append(loss)\n",
        "\n",
        "  if epoch % 100 == 0:\n",
        "    print(f\"Epoch {epoch} | Train Loss {loss}\")\n",
        "\n",
        "import seaborn as sns\n",
        "\n",
        "losses_float = [float(loss.cpu().detach().numpy()) for loss in losses] \n",
        "loss_indices = [i for i,l in enumerate(losses_float)] \n",
        "plt = sns.lineplot(loss_indices, losses_float)\n",
        "plt"
      ],
      "execution_count": null,
      "outputs": [
        {
          "output_type": "stream",
          "text": [
            "Starting to train the model\n",
            "Epoch 0 | Train Loss 4.234798908233643\n",
            "Epoch 100 | Train Loss 0.7794235348701477\n",
            "Epoch 200 | Train Loss 0.5335632562637329\n",
            "Epoch 300 | Train Loss 0.1921600103378296\n",
            "Epoch 400 | Train Loss 0.1743871569633484\n",
            "Epoch 500 | Train Loss 0.18975752592086792\n",
            "Epoch 600 | Train Loss 0.596881091594696\n",
            "Epoch 700 | Train Loss 0.19160884618759155\n",
            "Epoch 800 | Train Loss 0.3072303235530853\n",
            "Epoch 900 | Train Loss 0.18566438555717468\n",
            "Epoch 1000 | Train Loss 0.26889392733573914\n",
            "Epoch 1100 | Train Loss 0.3681156039237976\n",
            "Epoch 1200 | Train Loss 0.2121446579694748\n",
            "Epoch 1300 | Train Loss 0.1482149213552475\n",
            "Epoch 1400 | Train Loss 0.17701683938503265\n",
            "Epoch 1500 | Train Loss 0.12602554261684418\n",
            "Epoch 1600 | Train Loss 0.2209085375070572\n",
            "Epoch 1700 | Train Loss 0.09698738157749176\n",
            "Epoch 1800 | Train Loss 0.25308436155319214\n",
            "Epoch 1900 | Train Loss 0.12885743379592896\n",
            "Epoch 2000 | Train Loss 0.07048457860946655\n",
            "Epoch 2100 | Train Loss 0.17161811888217926\n",
            "Epoch 2200 | Train Loss 0.18288345634937286\n",
            "Epoch 2300 | Train Loss 0.13156770169734955\n",
            "Epoch 2400 | Train Loss 0.17015980184078217\n",
            "Epoch 2500 | Train Loss 0.19314706325531006\n",
            "Epoch 2600 | Train Loss 0.10435345023870468\n",
            "Epoch 2700 | Train Loss 0.17487329244613647\n",
            "Epoch 2800 | Train Loss 0.11615478247404099\n",
            "Epoch 2900 | Train Loss 0.08287665992975235\n"
          ],
          "name": "stdout"
        },
        {
          "output_type": "execute_result",
          "data": {
            "text/plain": [
              "<matplotlib.axes._subplots.AxesSubplot at 0x7f07ce506590>"
            ]
          },
          "metadata": {
            "tags": []
          },
          "execution_count": 10
        },
        {
          "output_type": "display_data",
          "data": {
            "image/png": "[encoded data removed]",
            "text/plain": [
              "<Figure size 432x288 with 1 Axes>"
            ]
          },
          "metadata": {
            "tags": [],
            "needs_background": "light"
          }
        }
      ]
    },
    {
      "cell_type": "markdown",
      "metadata": {
        "id": "J6kolrTtd-V4"
      },
      "source": [
        "#### Predicting\n"
      ]
    },
    {
      "cell_type": "code",
      "metadata": {
        "colab": {
          "base_uri": "https://localhost:8080/",
          "height": 419
        },
        "id": "7qsxld2FerdY",
        "outputId": "9ad902b8-de38-4153-c6b8-9c2b0cb9128e"
      },
      "source": [
        "import pandas as pd \n",
        "1\n",
        "# Analyze the results\n",
        "testBatch = next(iter(test))\n",
        "testBatch2 = next(iter(test))\n",
        "#testBatch = test\n",
        "\n",
        "with torch.no_grad():\n",
        "    testBatch.to(device)\n",
        "    pred, embed = model(testBatch.x.float(), testBatch.edge_index, testBatch.batch) \n",
        "    df = pd.DataFrame()\n",
        "    df[\"y_real\"] = testBatch.y.tolist()\n",
        "    df[\"y_pred\"] = pred.tolist()\n",
        "\n",
        "df[\"y_real\"] = df[\"y_real\"].apply(lambda row: row[0])\n",
        "df[\"y_pred\"] = df[\"y_pred\"].apply(lambda row: row[0])\n",
        "\n",
        "with torch.no_grad():\n",
        "    testBatch2.to(device)\n",
        "    pred2, embed2 = model(testBatch2.x.float(), testBatch2.edge_index, testBatch2.batch) \n",
        "    df2 = pd.DataFrame()\n",
        "    df2[\"y_real\"] = testBatch2.y.tolist()\n",
        "    df2[\"y_pred\"] = pred2.tolist()\n",
        "\n",
        "df2[\"y_real\"] = df2[\"y_real\"].apply(lambda row: row[0])\n",
        "df2[\"y_pred\"] = df2[\"y_pred\"].apply(lambda row: row[0])\n",
        "\n",
        "df.append(df2)"
      ],
      "execution_count": null,
      "outputs": [
        {
          "output_type": "execute_result",
          "data": {
            "text/html": [
              "<div>\n",
              "<style scoped>\n",
              "    .dataframe tbody tr th:only-of-type {\n",
              "        vertical-align: middle;\n",
              "    }\n",
              "\n",
              "    .dataframe tbody tr th {\n",
              "        vertical-align: top;\n",
              "    }\n",
              "\n",
              "    .dataframe thead th {\n",
              "        text-align: right;\n",
              "    }\n",
              "</style>\n",
              "<table border=\"1\" class=\"dataframe\">\n",
              "  <thead>\n",
              "    <tr style=\"text-align: right;\">\n",
              "      <th></th>\n",
              "      <th>y_real</th>\n",
              "      <th>y_pred</th>\n",
              "    </tr>\n",
              "  </thead>\n",
              "  <tbody>\n",
              "    <tr>\n",
              "      <th>0</th>\n",
              "      <td>-4.89</td>\n",
              "      <td>-4.064800</td>\n",
              "    </tr>\n",
              "    <tr>\n",
              "      <th>1</th>\n",
              "      <td>-3.24</td>\n",
              "      <td>-3.551354</td>\n",
              "    </tr>\n",
              "    <tr>\n",
              "      <th>2</th>\n",
              "      <td>-2.12</td>\n",
              "      <td>-1.955563</td>\n",
              "    </tr>\n",
              "    <tr>\n",
              "      <th>3</th>\n",
              "      <td>-4.57</td>\n",
              "      <td>-5.284811</td>\n",
              "    </tr>\n",
              "    <tr>\n",
              "      <th>4</th>\n",
              "      <td>-6.80</td>\n",
              "      <td>-7.409152</td>\n",
              "    </tr>\n",
              "    <tr>\n",
              "      <th>...</th>\n",
              "      <td>...</td>\n",
              "      <td>...</td>\n",
              "    </tr>\n",
              "    <tr>\n",
              "      <th>59</th>\n",
              "      <td>-0.31</td>\n",
              "      <td>-2.519231</td>\n",
              "    </tr>\n",
              "    <tr>\n",
              "      <th>60</th>\n",
              "      <td>-3.76</td>\n",
              "      <td>-5.155268</td>\n",
              "    </tr>\n",
              "    <tr>\n",
              "      <th>61</th>\n",
              "      <td>-6.35</td>\n",
              "      <td>-6.035748</td>\n",
              "    </tr>\n",
              "    <tr>\n",
              "      <th>62</th>\n",
              "      <td>-0.59</td>\n",
              "      <td>-0.752655</td>\n",
              "    </tr>\n",
              "    <tr>\n",
              "      <th>63</th>\n",
              "      <td>-2.18</td>\n",
              "      <td>-1.477774</td>\n",
              "    </tr>\n",
              "  </tbody>\n",
              "</table>\n",
              "<p>128 rows × 2 columns</p>\n",
              "</div>"
            ],
            "text/plain": [
              "    y_real    y_pred\n",
              "0    -4.89 -4.064800\n",
              "1    -3.24 -3.551354\n",
              "2    -2.12 -1.955563\n",
              "3    -4.57 -5.284811\n",
              "4    -6.80 -7.409152\n",
              "..     ...       ...\n",
              "59   -0.31 -2.519231\n",
              "60   -3.76 -5.155268\n",
              "61   -6.35 -6.035748\n",
              "62   -0.59 -0.752655\n",
              "63   -2.18 -1.477774\n",
              "\n",
              "[128 rows x 2 columns]"
            ]
          },
          "metadata": {
            "tags": []
          },
          "execution_count": 11
        }
      ]
    },
    {
      "cell_type": "code",
      "metadata": {
        "colab": {
          "base_uri": "https://localhost:8080/",
          "height": 301
        },
        "id": "Mk7fSRqrkaZ-",
        "outputId": "9b45c840-aa11-49a3-a0c1-e0fa0b99fcb0"
      },
      "source": [
        "plt = sns.scatterplot(data=df, x=\"y_pred\", y=\"y_real\")\n",
        "plt.set(xlim=(-7, 2))\n",
        "plt.set(ylim=(-7, 2))\n",
        "plt.plot([0,1],[0,1], transform=plt.transAxes)\n",
        "plt"
      ],
      "execution_count": null,
      "outputs": [
        {
          "output_type": "execute_result",
          "data": {
            "text/plain": [
              "<matplotlib.axes._subplots.AxesSubplot at 0x7f07b61a7690>"
            ]
          },
          "metadata": {
            "tags": []
          },
          "execution_count": 12
        },
        {
          "output_type": "display_data",
          "data": {
            "image/png": "[encoded data removed]",
            "text/plain": [
              "<Figure size 432x288 with 1 Axes>"
            ]
          },
          "metadata": {
            "tags": [],
            "needs_background": "light"
          }
        }
      ]
    }
  ]
}
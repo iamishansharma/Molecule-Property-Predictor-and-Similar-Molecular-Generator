{
  "nbformat": 4,
  "nbformat_minor": 0,
  "metadata": {
    "colab": {
      "name": "Similar Molecule Generator.ipynb",
      "provenance": [],
      "collapsed_sections": []
    },
    "kernelspec": {
      "name": "python3",
      "display_name": "Python 3"
    },
    "accelerator": "GPU"
  },
  "cells": [
    {
      "cell_type": "code",
      "metadata": {
        "id": "YBcmWTQFgm-s",
        "colab": {
          "base_uri": "https://localhost:8080/"
        },
        "outputId": "ba3be93c-ed04-4586-de8f-a554b544528f"
      },
      "source": [
        "# Installing Dependancies\n",
        "\n",
        "!pip install kora -q\n",
        "import kora.install.rdkit\n",
        "import sys\n",
        "import numpy as np\n",
        "from numpy.testing import assert_allclose\n",
        "from keras.models import Sequential, load_model\n",
        "from keras.layers import Dense\n",
        "from keras.layers import Dropout\n",
        "from keras.layers import LSTM\n",
        "from keras.callbacks import ModelCheckpoint\n",
        "from keras.utils import np_utils\n",
        "from rdkit import Chem\n",
        "from rdkit.Chem.Draw import IPythonConsole\n",
        "from rdkit.Chem import Draw"
      ],
      "execution_count": null,
      "outputs": [
        {
          "output_type": "stream",
          "text": [
            "\u001b[K     |████████████████████████████████| 61kB 6.6MB/s \n",
            "\u001b[K     |████████████████████████████████| 61kB 8.4MB/s \n",
            "\u001b[?25h"
          ],
          "name": "stdout"
        }
      ]
    },
    {
      "cell_type": "code",
      "metadata": {
        "id": "Bz9Y2jlj85Bc",
        "colab": {
          "base_uri": "https://localhost:8080/"
        },
        "outputId": "ae19a23d-05b9-43a5-f020-cf1731db51cc"
      },
      "source": [
        "filename = '10k_rndm_zinc_drugs_clean.txt'\n",
        "with open(filename) as f:\n",
        "    \traw_text = \"\\n\".join(line.strip() for line in f)\n",
        "\n",
        "unique_chars = sorted(list(set(raw_text)))\n",
        "char_to_int = dict((c, i) for i, c in enumerate(unique_chars))\n",
        "char_to_int.update({-1 : \"\\n\"})\n",
        "\n",
        "int_to_char = dict((i, c) for i, c in enumerate(unique_chars))\n",
        "int_to_char.update({\"\\n\" : -1})\n",
        "\n",
        "mapping_size = len(char_to_int)\n",
        "reverse_mapping_size = len(int_to_char)\n",
        "print (\"Size of the character to integer dictionary is: \", mapping_size)\n",
        "print (\"Size of the integer to character dictionary is: \", reverse_mapping_size)"
      ],
      "execution_count": null,
      "outputs": [
        {
          "output_type": "stream",
          "text": [
            "Size of the character to integer dictionary is:  35\n",
            "Size of the integer to character dictionary is:  35\n"
          ],
          "name": "stdout"
        }
      ]
    },
    {
      "cell_type": "code",
      "metadata": {
        "id": "-u3LzYImJgTg"
      },
      "source": [
        "assert mapping_size == reverse_mapping_size"
      ],
      "execution_count": null,
      "outputs": []
    },
    {
      "cell_type": "code",
      "metadata": {
        "colab": {
          "base_uri": "https://localhost:8080/"
        },
        "id": "NMQWkBErJhD5",
        "outputId": "43808e5b-2cce-47c5-c57b-aed6999604d7"
      },
      "source": [
        "n_chars = len(raw_text)\n",
        "n_vocab = len(unique_chars)\n",
        "\n",
        "print (\"Total number of characters in the file is: \", n_chars)\n",
        "\n",
        "seq_length = 137\n",
        "dataX = []\n",
        "dataY = []\n",
        "\n",
        "for i in range(0, n_chars - seq_length, 1):\n",
        "\tseq_in = raw_text[i:i + seq_length]\n",
        "\tseq_out = raw_text[i + seq_length]\n",
        "\tdataX.append([char_to_int[char] for char in seq_in])\n",
        "\tdataY.append(char_to_int[seq_out])\n",
        "\n",
        "n_patterns = len(dataX)\n",
        "\n",
        "X = np.reshape(dataX, (n_patterns, seq_length, 1))\n",
        "\n",
        "X = X / float(n_vocab)\n",
        "\n",
        "Y = np_utils.to_categorical(dataY)"
      ],
      "execution_count": null,
      "outputs": [
        {
          "output_type": "stream",
          "text": [
            "Total number of characters in the file is:  453342\n"
          ],
          "name": "stdout"
        }
      ]
    },
    {
      "cell_type": "code",
      "metadata": {
        "colab": {
          "base_uri": "https://localhost:8080/"
        },
        "id": "sBN6-xWZJp4s",
        "outputId": "c441e7a0-908b-4d57-d70b-4c430759ad5e"
      },
      "source": [
        "\"\"\"CREATING THE LSTM MODEL\"\"\"\n",
        "\n",
        "model = Sequential()\n",
        "model.add(LSTM(128, input_shape=(X.shape[1], X.shape[2]), return_sequences = True))\n",
        "model.add(Dropout(0.25))\n",
        "model.add(LSTM(256, return_sequences = True))\n",
        "model.add(Dropout(0.25))\n",
        "model.add(LSTM(512, return_sequences = True))\n",
        "model.add(Dropout(0.25))\n",
        "model.add(LSTM(256, return_sequences = True))\n",
        "model.add(Dropout(0.25))\n",
        "model.add(LSTM(128))\n",
        "model.add(Dropout(0.25))\n",
        "model.add(Dense(Y.shape[1], activation='softmax'))\n",
        "\n",
        "print (model.summary())"
      ],
      "execution_count": null,
      "outputs": [
        {
          "output_type": "stream",
          "text": [
            "Model: \"sequential\"\n",
            "_________________________________________________________________\n",
            "Layer (type)                 Output Shape              Param #   \n",
            "=================================================================\n",
            "lstm (LSTM)                  (None, 137, 128)          66560     \n",
            "_________________________________________________________________\n",
            "dropout (Dropout)            (None, 137, 128)          0         \n",
            "_________________________________________________________________\n",
            "lstm_1 (LSTM)                (None, 137, 256)          394240    \n",
            "_________________________________________________________________\n",
            "dropout_1 (Dropout)          (None, 137, 256)          0         \n",
            "_________________________________________________________________\n",
            "lstm_2 (LSTM)                (None, 137, 512)          1574912   \n",
            "_________________________________________________________________\n",
            "dropout_2 (Dropout)          (None, 137, 512)          0         \n",
            "_________________________________________________________________\n",
            "lstm_3 (LSTM)                (None, 137, 256)          787456    \n",
            "_________________________________________________________________\n",
            "dropout_3 (Dropout)          (None, 137, 256)          0         \n",
            "_________________________________________________________________\n",
            "lstm_4 (LSTM)                (None, 128)               197120    \n",
            "_________________________________________________________________\n",
            "dropout_4 (Dropout)          (None, 128)               0         \n",
            "_________________________________________________________________\n",
            "dense (Dense)                (None, 34)                4386      \n",
            "=================================================================\n",
            "Total params: 3,024,674\n",
            "Trainable params: 3,024,674\n",
            "Non-trainable params: 0\n",
            "_________________________________________________________________\n",
            "None\n"
          ],
          "name": "stdout"
        }
      ]
    },
    {
      "cell_type": "code",
      "metadata": {
        "colab": {
          "base_uri": "https://localhost:8080/"
        },
        "id": "4ZR0qHe5JtxC",
        "outputId": "a15088d2-85ad-4bc1-f234-407b930835e7"
      },
      "source": [
        "from keras.callbacks import History \n",
        "history = History()\n",
        "model.compile(loss = 'categorical_crossentropy', optimizer='adam')\n",
        "\n",
        "filepath=\"weights-improvement-{epoch:02d}-{loss:.4f}.hdf5\"\n",
        "checkpoint = ModelCheckpoint(filepath, monitor = 'loss', verbose = 1, save_best_only = True, mode = 'min')\n",
        "callbacks_list = [checkpoint]\n",
        "\n",
        "## Fit the model\n",
        "history = model.fit(X, Y, epochs = 25, batch_size = 128, callbacks = callbacks_list)\n",
        "\n",
        "# \"\"\"TO TRAIN FROM SAVED CHECKPOINT\"\"\"\n",
        "# # Load weights\n",
        "# model.load_weights(\"weights-improvement-75-1.8144.hdf5\")\n",
        "\n",
        "# # load the model\n",
        "# new_model = load_model(\"model.h5\")\n",
        "# assert_allclose(model.predict(x_train),\n",
        "#                 new_model.predict(x_train),\n",
        "#                 1e-5)\n",
        "\n",
        "# # fit the model\n",
        "# checkpoint = ModelCheckpoint(filepath, monitor='loss', verbose=1, save_best_only=True, mode='min')\n",
        "# callbacks_list = [checkpoint]\n",
        "# new_model.fit(x_train, y_train, epochs = 100, batch_size = 64, callbacks = callbacks_list)"
      ],
      "execution_count": null,
      "outputs": [
        {
          "output_type": "stream",
          "text": [
            "Epoch 1/25\n",
            "3541/3541 [==============================] - 501s 131ms/step - loss: 2.6714\n",
            "\n",
            "Epoch 00001: loss improved from inf to 2.66047, saving model to weights-improvement-01-2.6605.hdf5\n",
            "Epoch 2/25\n",
            "3541/3541 [==============================] - 467s 132ms/step - loss: 2.6497\n",
            "\n",
            "Epoch 00002: loss improved from 2.66047 to 2.64959, saving model to weights-improvement-02-2.6496.hdf5\n",
            "Epoch 3/25\n",
            "3541/3541 [==============================] - 466s 132ms/step - loss: 2.6486\n",
            "\n",
            "Epoch 00003: loss improved from 2.64959 to 2.64736, saving model to weights-improvement-03-2.6474.hdf5\n",
            "Epoch 4/25\n",
            "3541/3541 [==============================] - 466s 132ms/step - loss: 2.6455\n",
            "\n",
            "Epoch 00004: loss improved from 2.64736 to 2.64603, saving model to weights-improvement-04-2.6460.hdf5\n",
            "Epoch 5/25\n",
            "3541/3541 [==============================] - 466s 132ms/step - loss: 2.6465\n",
            "\n",
            "Epoch 00005: loss improved from 2.64603 to 2.64531, saving model to weights-improvement-05-2.6453.hdf5\n",
            "Epoch 6/25\n",
            "3541/3541 [==============================] - 465s 131ms/step - loss: 2.6434\n",
            "\n",
            "Epoch 00006: loss improved from 2.64531 to 2.64503, saving model to weights-improvement-06-2.6450.hdf5\n",
            "Epoch 7/25\n",
            "3541/3541 [==============================] - 466s 132ms/step - loss: 2.6456\n",
            "\n",
            "Epoch 00007: loss improved from 2.64503 to 2.64455, saving model to weights-improvement-07-2.6446.hdf5\n",
            "Epoch 8/25\n",
            "3541/3541 [==============================] - 465s 131ms/step - loss: 2.6443\n",
            "\n",
            "Epoch 00008: loss improved from 2.64455 to 2.64445, saving model to weights-improvement-08-2.6445.hdf5\n",
            "Epoch 9/25\n",
            "3541/3541 [==============================] - 467s 132ms/step - loss: 2.6459\n",
            "\n",
            "Epoch 00009: loss improved from 2.64445 to 2.64379, saving model to weights-improvement-09-2.6438.hdf5\n",
            "Epoch 10/25\n",
            "3541/3541 [==============================] - 467s 132ms/step - loss: 2.6420\n",
            "\n",
            "Epoch 00010: loss improved from 2.64379 to 2.64376, saving model to weights-improvement-10-2.6438.hdf5\n",
            "Epoch 11/25\n",
            "3541/3541 [==============================] - 466s 132ms/step - loss: 2.6446\n",
            "\n",
            "Epoch 00011: loss improved from 2.64376 to 2.64340, saving model to weights-improvement-11-2.6434.hdf5\n",
            "Epoch 12/25\n",
            "3541/3541 [==============================] - 467s 132ms/step - loss: 2.6429\n",
            "\n",
            "Epoch 00012: loss improved from 2.64340 to 2.64331, saving model to weights-improvement-12-2.6433.hdf5\n",
            "Epoch 13/25\n",
            "3541/3541 [==============================] - 467s 132ms/step - loss: 2.6413\n",
            "\n",
            "Epoch 00013: loss improved from 2.64331 to 2.64314, saving model to weights-improvement-13-2.6431.hdf5\n",
            "Epoch 14/25\n",
            "3541/3541 [==============================] - 466s 132ms/step - loss: 2.6426\n",
            "\n",
            "Epoch 00014: loss improved from 2.64314 to 2.64298, saving model to weights-improvement-14-2.6430.hdf5\n",
            "Epoch 15/25\n",
            "3541/3541 [==============================] - 468s 132ms/step - loss: 2.6427\n",
            "\n",
            "Epoch 00015: loss improved from 2.64298 to 2.64275, saving model to weights-improvement-15-2.6427.hdf5\n",
            "Epoch 16/25\n",
            "3541/3541 [==============================] - 468s 132ms/step - loss: 2.6433\n",
            "\n",
            "Epoch 00016: loss improved from 2.64275 to 2.64264, saving model to weights-improvement-16-2.6426.hdf5\n",
            "Epoch 17/25\n",
            "3541/3541 [==============================] - 468s 132ms/step - loss: 2.6419\n",
            "\n",
            "Epoch 00017: loss improved from 2.64264 to 2.64258, saving model to weights-improvement-17-2.6426.hdf5\n",
            "Epoch 18/25\n",
            "3541/3541 [==============================] - 468s 132ms/step - loss: 2.6422\n",
            "\n",
            "Epoch 00018: loss improved from 2.64258 to 2.64245, saving model to weights-improvement-18-2.6425.hdf5\n",
            "Epoch 19/25\n",
            "3541/3541 [==============================] - 470s 133ms/step - loss: 2.6450\n",
            "\n",
            "Epoch 00019: loss did not improve from 2.64245\n",
            "Epoch 20/25\n",
            "3541/3541 [==============================] - 469s 132ms/step - loss: 2.6417\n",
            "\n",
            "Epoch 00020: loss improved from 2.64245 to 2.64238, saving model to weights-improvement-20-2.6424.hdf5\n",
            "Epoch 21/25\n",
            "3541/3541 [==============================] - 468s 132ms/step - loss: 2.6418\n",
            "\n",
            "Epoch 00021: loss improved from 2.64238 to 2.64232, saving model to weights-improvement-21-2.6423.hdf5\n",
            "Epoch 22/25\n",
            "3541/3541 [==============================] - 470s 133ms/step - loss: 2.6382\n",
            "\n",
            "Epoch 00022: loss improved from 2.64232 to 2.64231, saving model to weights-improvement-22-2.6423.hdf5\n",
            "Epoch 23/25\n",
            "3541/3541 [==============================] - 472s 133ms/step - loss: 2.6414\n",
            "\n",
            "Epoch 00023: loss improved from 2.64231 to 2.64224, saving model to weights-improvement-23-2.6422.hdf5\n",
            "Epoch 24/25\n",
            "3541/3541 [==============================] - 469s 133ms/step - loss: 2.6409\n",
            "\n",
            "Epoch 00024: loss improved from 2.64224 to 2.64218, saving model to weights-improvement-24-2.6422.hdf5\n",
            "Epoch 25/25\n",
            "3541/3541 [==============================] - 470s 133ms/step - loss: 2.6437\n",
            "\n",
            "Epoch 00025: loss improved from 2.64218 to 2.64217, saving model to weights-improvement-25-2.6422.hdf5\n"
          ],
          "name": "stdout"
        }
      ]
    },
    {
      "cell_type": "code",
      "metadata": {
        "colab": {
          "base_uri": "https://localhost:8080/",
          "height": 384
        },
        "id": "aDbSg_VLJ2TE",
        "outputId": "d9a83276-34ea-4a1e-957e-00890c9c1171"
      },
      "source": [
        "import matplotlib.pyplot as plt\n",
        "import numpy\n",
        "\n",
        "plt.plot(history.history['loss'])\n",
        "\n",
        "\"\"\"GENERATING NEW SMILES\"\"\"\n",
        "\n",
        "filename = \"weights-improvement-25-2.6422.hdf5\"\n",
        "model.load_weights(filename)\n",
        "model.compile(loss = 'categorical_crossentropy', optimizer = 'adam')\n",
        "\n",
        "# Pick a random seed from the SMILES strings\n",
        "start = np.random.randint(0, len(dataX)-1)\n",
        "pattern = dataX[start]\n",
        "print (\"Seed:\")\n",
        "print (\"\\\"\", ''.join([int_to_char[value] for value in pattern]), \"\\\"\")\n",
        "\n",
        "for i in range(137):\n",
        "\tx = np.reshape(pattern, (1, len(pattern), 1))\n",
        "\tprediction = model.predict(x, verbose=0)\n",
        "\tindex = np.argmax(prediction)\n",
        "\tresult = int_to_char[index]\n",
        "\tseq_in = [int_to_char[value] for value in pattern]\n",
        "\tsys.stdout.write(result)\n",
        "\tpattern.append(index)\n",
        "\tpattern = pattern[1:len(pattern)]\n",
        "print (\"\\nDone.\")"
      ],
      "execution_count": null,
      "outputs": [
        {
          "output_type": "stream",
          "text": [
            "Seed:\n",
            "\" CC(=O)NN1C(=O)N[C@](C)(c2ccccc2)C1=O)c1ccccc1\n",
            "Clc1ccc(/C=N\\c2ccc3c(c2)OCCOCCOCCOCCO3)c(Cl)c1\n",
            "COCCn1c(SCC(F)(F)F)nc2ccccc21\n",
            "CCNc1nnc(S[C@@ \"\n",
            "ccccccccccccccccccccccccccccccccccccccccccccccccccccccccccccccccccccccccccccccccccccccccccccccccccccccccccccccccccccccccccccccccccccccccc\n",
            "Done.\n"
          ],
          "name": "stdout"
        },
        {
          "output_type": "display_data",
          "data": {
            "image/png": "[encoded data removed]",
            "text/plain": [
              "<Figure size 432x288 with 1 Axes>"
            ]
          },
          "metadata": {
            "tags": [],
            "needs_background": "light"
          }
        }
      ]
    }
  ]
}